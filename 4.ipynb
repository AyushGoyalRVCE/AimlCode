{
 "cells": [
  {
   "cell_type": "code",
   "execution_count": 7,
   "id": "f36771f7",
   "metadata": {},
   "outputs": [
    {
     "name": "stdout",
     "output_type": "stream",
     "text": [
      "Enter your starting point: 1\n",
      "Best solution: 495.00000000004405\n",
      "Best value: 245025.00000004363\n"
     ]
    }
   ],
   "source": [
    "import random\n",
    "\n",
    "def objective_function(x):\n",
    "    return x * x\n",
    "\n",
    "def hill_climbing(starting_point, max_iterations=10000, step_size=0.1):   \n",
    "    \n",
    "    current_solution = starting_point\n",
    "    current_value = objective_function(current_solution)    \n",
    " \n",
    "    for _ in range(max_iterations):        \n",
    "        new_solution = current_solution + random.choice([-1, 1]) * step_size       \n",
    "        new_value = objective_function(new_solution)       \n",
    "        if new_value > current_value:\n",
    "            current_solution = new_solution\n",
    "            current_value = new_value\n",
    "    \n",
    "    return current_solution, current_value\n",
    "\n",
    "starting_point = float(input(\"Enter your starting point: \"))\n",
    "best_solution, best_value = hill_climbing(starting_point)\n",
    "print(\"Best solution:\", best_solution)\n",
    "print(\"Best value:\", best_value)\n",
    "\n"
   ]
  },
  {
   "cell_type": "code",
   "execution_count": null,
   "id": "1f8fef3b",
   "metadata": {},
   "outputs": [],
   "source": []
  },
  {
   "cell_type": "code",
   "execution_count": null,
   "id": "827c3c6a",
   "metadata": {},
   "outputs": [],
   "source": []
  }
 ],
 "metadata": {
  "kernelspec": {
   "display_name": "Python 3 (ipykernel)",
   "language": "python",
   "name": "python3"
  },
  "language_info": {
   "codemirror_mode": {
    "name": "ipython",
    "version": 3
   },
   "file_extension": ".py",
   "mimetype": "text/x-python",
   "name": "python",
   "nbconvert_exporter": "python",
   "pygments_lexer": "ipython3",
   "version": "3.9.16"
  }
 },
 "nbformat": 4,
 "nbformat_minor": 5
}
