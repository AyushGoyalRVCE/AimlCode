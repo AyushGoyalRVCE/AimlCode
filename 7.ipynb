{
 "cells": [
  {
   "cell_type": "code",
   "execution_count": 33,
   "id": "de11374a",
   "metadata": {
    "id": "de11374a"
   },
   "outputs": [
    {
     "name": "stdout",
     "output_type": "stream",
     "text": [
      "Accuracy: 1.0\n",
      "Iris-virginica\n"
     ]
    }
   ],
   "source": [
    "import pandas as pd\n",
    "import numpy as np\n",
    "from sklearn.model_selection import train_test_split\n",
    "from sklearn.metrics import accuracy_score\n",
    "\n",
    "df = pd.read_csv('iris_csv.csv')\n",
    "\n",
    "X = df.iloc[:, :4]\n",
    "y = df.iloc[:, -1]\n",
    "X_train, X_test, y_train, y_test = train_test_split(X, y, test_size=0.25, random_state=42)\n",
    "\n",
    "def euclidean_distance(point1, point2):\n",
    "    return np.sqrt(np.sum((point1 - point2) ** 2))\n",
    "\n",
    "def knn_predict(train_data, train_labels, test_point, k=3):\n",
    "    distances = []\n",
    "    \n",
    "\n",
    "    for i in range(len(train_data)):\n",
    "        distance = euclidean_distance(test_point, train_data.iloc[i, :])\n",
    "        distances.append((distance, train_labels.iloc[i]))\n",
    "\n",
    "    sorted_distances = sorted(distances, key=lambda x: x[0])\n",
    "    k_nearest_neighbors = sorted_distances[:k]\n",
    "    class_counts = {}\n",
    "    for neighbor in k_nearest_neighbors:\n",
    "        label = neighbor[1]\n",
    "        class_counts[label] = class_counts.get(label, 0) + 1\n",
    "    predicted_class = max(class_counts, key=class_counts.get)\n",
    "    \n",
    "    return predicted_class\n",
    "\n",
    "\n",
    "pred = [knn_predict(X_train, y_train, X_test.iloc[i, :], k=3) for i in range(len(X_test))]\n",
    "\n",
    "accuracy = accuracy_score(y_test, pred)\n",
    "print(\"Accuracy:\", accuracy)\n",
    "\n",
    "X_test[:1]\n",
    "\n",
    "t = [6.1, 2.8, 4.7, 2.2]\n",
    "p = knn_predict(X_train, y_train, t, k=3)\n",
    "print(p)"
   ]
  },
  {
   "cell_type": "code",
   "execution_count": null,
   "id": "6b762d38",
   "metadata": {
    "id": "6b762d38",
    "outputId": "56f22645-630c-40d8-8b87-f61cfbdfcec6"
   },
   "outputs": [],
   "source": []
  },
  {
   "cell_type": "code",
   "execution_count": null,
   "id": "61f2c7a1",
   "metadata": {},
   "outputs": [],
   "source": []
  }
 ],
 "metadata": {
  "colab": {
   "provenance": []
  },
  "kernelspec": {
   "display_name": "Python 3 (ipykernel)",
   "language": "python",
   "name": "python3"
  },
  "language_info": {
   "codemirror_mode": {
    "name": "ipython",
    "version": 3
   },
   "file_extension": ".py",
   "mimetype": "text/x-python",
   "name": "python",
   "nbconvert_exporter": "python",
   "pygments_lexer": "ipython3",
   "version": "3.9.16"
  }
 },
 "nbformat": 4,
 "nbformat_minor": 5
}
